{
  "nbformat": 4,
  "nbformat_minor": 0,
  "metadata": {
    "colab": {
      "name": "Beet Labs - Data Science 01.ipynb",
      "provenance": [],
      "collapsed_sections": [
        "e6-hJjAT1-Ud",
        "ypLVbohWKeD0",
        "VXP72ih5HtcA",
        "50hzglv4LLI4",
        "u4tlZd7kx8aV",
        "IH3m93-m3e7w",
        "__PMAal-53h3"
      ]
    },
    "kernelspec": {
      "name": "python3",
      "display_name": "Python 3"
    },
    "language_info": {
      "name": "python"
    }
  },
  "cells": [
    {
      "cell_type": "markdown",
      "source": [
        "<img src=\"https://raw.githubusercontent.com/saulocatharino/assistente_virtual/master/logobeetlabs.png\" width=600>\n",
        "<br><br>\n",
        "\n",
        "<h1><b>MENTORIA PERSONALIZADA</b></h1><br>\n",
        "\n",
        "\n",
        "---\n",
        "\n",
        "<br>\n",
        "<h4><b>COMPREENDENDO OS TIPOS DE DADOS NO PYTHON</b></h4>\n",
        "\n",
        "*   Inteiro (int)\n",
        "*   Ponto Flutuante ou Decimal (float)\n",
        "*   String (str)\n",
        "*   Booleana (bool)\n",
        "*   Lista (list)\n",
        "*   Tupla (tuple)\n",
        "*   Dicionário (dict)\n",
        "*   Tipo Complexo (complex)\n",
        "\n",
        "<br>\n",
        "<br>\n",
        "\n",
        "---\n",
        "\n",
        "\n",
        "<br>\n",
        "<br>\n"
      ],
      "metadata": {
        "id": "3wp7J2OC1BTZ"
      }
    },
    {
      "cell_type": "markdown",
      "source": [
        "## **INTEIRO (int)**"
      ],
      "metadata": {
        "id": "e6-hJjAT1-Ud"
      }
    },
    {
      "cell_type": "code",
      "execution_count": null,
      "metadata": {
        "colab": {
          "base_uri": "https://localhost:8080/"
        },
        "id": "RvIXVYYy0_Md",
        "outputId": "cec7c199-7424-4972-c3c4-8c2d9f0787b7"
      },
      "outputs": [
        {
          "output_type": "stream",
          "name": "stdout",
          "text": [
            "<class 'int'>\n",
            "<class 'int'>\n"
          ]
        }
      ],
      "source": [
        "a = 81\n",
        "b = 9\n",
        "\n",
        "print(type(a))\n",
        "print(type(b))"
      ]
    },
    {
      "cell_type": "code",
      "source": [
        "# Biblioteca nativa para funções matemáticas \n",
        "import math as m\n",
        "\n",
        "soma = a + b\n",
        "\n",
        "subtrai = a - b\n",
        "\n",
        "multiplica = a * b\n",
        "\n",
        "divide = a / b\n",
        "\n",
        "eleva = a ** b\n",
        "\n",
        "raizes = [m.sqrt(a), m.sqrt(b)]\n",
        "\n",
        "print(\"Valor de 'a': {}\".format(a))\n",
        "\n",
        "\n",
        "print(\"Valor de 'b': {}\".format(b))\n",
        "\n",
        "print(\"Soma: {}\".format(soma))\n",
        "print(\"Subtrai: {}\".format(subtrai))\n",
        "print(\"Multiplica: {}\".format(multiplica))\n",
        "print(\"Divide: {}\".format(divide))\n",
        "print(\"Eleva: {}\".format(eleva))\n",
        "\n",
        "print(\"Raiz Quadrada: {}\".format(raizes))"
      ],
      "metadata": {
        "colab": {
          "base_uri": "https://localhost:8080/"
        },
        "id": "_aiZYjjKFUzl",
        "outputId": "a969a280-8ea6-4f74-b1b1-163a90faa25c"
      },
      "execution_count": null,
      "outputs": [
        {
          "output_type": "stream",
          "name": "stdout",
          "text": [
            "Valor de 'a': 81\n",
            "Valor de 'b': 9\n",
            "Soma: 90\n",
            "Subtrai: 72\n",
            "Multiplica: 729\n",
            "Divide: 9.0\n",
            "Eleva: 150094635296999121\n",
            "Raiz Quadrada: [9.0, 3.0]\n"
          ]
        }
      ]
    },
    {
      "cell_type": "code",
      "source": [
        "# Criando funções para as expressões matemáticas\n",
        "\n",
        "def somar(a,b):\n",
        "  resultado = a + b\n",
        "  return resultado\n",
        "\n",
        "def subtrair(a,b):\n",
        "  resultado = a - b\n",
        "  return resultado\n",
        "\n",
        "def multiplicar(a,b):\n",
        "  resultado = a * b\n",
        "  return resultado\n",
        "\n",
        "def dividir(a,b):\n",
        "  resultado = a // b\n",
        "  return resultado\n",
        "\n",
        "print(somar(3,2))\n",
        "print(subtrair(3,2))\n",
        "print(multiplicar(3,2))\n",
        "print(dividir(3,2))"
      ],
      "metadata": {
        "colab": {
          "base_uri": "https://localhost:8080/"
        },
        "id": "thQCr-E54z_f",
        "outputId": "952d942b-d650-4ccc-b9dd-18418e279599"
      },
      "execution_count": null,
      "outputs": [
        {
          "output_type": "stream",
          "name": "stdout",
          "text": [
            "5\n",
            "1\n",
            "6\n",
            "1\n"
          ]
        }
      ]
    },
    {
      "cell_type": "code",
      "source": [
        "a = 54\n",
        "b = 34\n",
        "\n",
        "print(somar(a,b))\n",
        "print(subtrair(a,b))\n",
        "print(multiplicar(a,b))\n",
        "print(dividir(a,b))"
      ],
      "metadata": {
        "colab": {
          "base_uri": "https://localhost:8080/"
        },
        "id": "I8qSUjIP5Caz",
        "outputId": "67f32b36-f8bd-4a96-9945-a6d7736aef9a"
      },
      "execution_count": null,
      "outputs": [
        {
          "output_type": "stream",
          "name": "stdout",
          "text": [
            "88\n",
            "20\n",
            "1836\n",
            "1\n"
          ]
        }
      ]
    },
    {
      "cell_type": "markdown",
      "source": [
        "## **PONTO FLUTUANTE ou DECIMAL (float)**"
      ],
      "metadata": {
        "id": "ypLVbohWKeD0"
      }
    },
    {
      "cell_type": "code",
      "source": [
        "altura = 3.3\n",
        "largura = 5.5\n",
        "\n",
        "print(type(altura))\n",
        "print(type(largura))"
      ],
      "metadata": {
        "colab": {
          "base_uri": "https://localhost:8080/"
        },
        "id": "wg7gs5WhKpYb",
        "outputId": "0489251d-c991-4ec5-c30d-b8c1e198a3af"
      },
      "execution_count": null,
      "outputs": [
        {
          "output_type": "stream",
          "name": "stdout",
          "text": [
            "<class 'float'>\n",
            "<class 'float'>\n"
          ]
        }
      ]
    },
    {
      "cell_type": "code",
      "source": [
        "metros_quadrados = largura * altura\n",
        "\n",
        "print(\"Altura: {}\".format(altura))\n",
        "print(\"Largura: {}\".format(largura))\n",
        "print(\"Área Total: {} m²\".format(metros_quadrados))\n",
        "#print(\"Área Total:\", metros_quadrados, \"m²\")"
      ],
      "metadata": {
        "colab": {
          "base_uri": "https://localhost:8080/"
        },
        "id": "aiP3CeS-Kz0E",
        "outputId": "9a15cbc2-b269-4b24-effc-c1d74d45f9c8"
      },
      "execution_count": null,
      "outputs": [
        {
          "output_type": "stream",
          "name": "stdout",
          "text": [
            "Altura: 3.3\n",
            "Largura: 5.5\n",
            "Área Total: 18.15 m²\n"
          ]
        }
      ]
    },
    {
      "cell_type": "code",
      "source": [
        "proporcao = largura / altura\n",
        "print(proporcao)"
      ],
      "metadata": {
        "colab": {
          "base_uri": "https://localhost:8080/"
        },
        "id": "jRQggLN7ftCP",
        "outputId": "c3f34b7d-6c13-497d-c0f6-32d14b9e9989"
      },
      "execution_count": null,
      "outputs": [
        {
          "output_type": "stream",
          "name": "stdout",
          "text": [
            "1.6666666666666667\n"
          ]
        }
      ]
    },
    {
      "cell_type": "code",
      "source": [
        "proporcao = largura / altura\n",
        "\n",
        "arredondado = round(proporcao,1)\n",
        "\n",
        "print(\"Proporção entre largura e altura: {} x 1\".format(arredondado))"
      ],
      "metadata": {
        "colab": {
          "base_uri": "https://localhost:8080/"
        },
        "id": "CEzpSlXOmSnF",
        "outputId": "f64d4c1b-8b54-4812-971a-619dbd6cb311"
      },
      "execution_count": null,
      "outputs": [
        {
          "output_type": "stream",
          "name": "stdout",
          "text": [
            "Proporção entre largura e altura: 1.7 x 1\n"
          ]
        }
      ]
    },
    {
      "cell_type": "markdown",
      "source": [
        "## **STRING (str)**"
      ],
      "metadata": {
        "id": "VXP72ih5HtcA"
      }
    },
    {
      "cell_type": "code",
      "source": [
        "a = '1'\n",
        "b = '1'\n",
        "print(a + b)"
      ],
      "metadata": {
        "colab": {
          "base_uri": "https://localhost:8080/"
        },
        "id": "2URxFhn75c0q",
        "outputId": "a45ac351-dc10-42c3-fba3-30d08db5ab70"
      },
      "execution_count": null,
      "outputs": [
        {
          "output_type": "stream",
          "name": "stdout",
          "text": [
            "11\n"
          ]
        }
      ]
    },
    {
      "cell_type": "code",
      "source": [
        "nome = \"Saulo\"\n",
        "nome_do_meio = \"Jubilado\"\n",
        "sobrenome = \"Catharino\"\n",
        "\n",
        "# O símbolo '+' concatena strings\n",
        "nome_completo = nome + \" \" + nome_do_meio + \" \" + sobrenome\n",
        "naturalidade = \"Rio de Janeiro\"\n",
        "nacionalidade = \"Brasileira\"\n",
        "\n",
        "# O símbolo '*' Multiplica o conteudo da string\n",
        "print(\"-\"*20)\n",
        "\n",
        "print(\"Nome completo: {}\".format(nome_completo))\n",
        "print(\"Naturalidade: {}\".format(naturalidade))\n",
        "print(\"Nacionalidade: {}\".format(nacionalidade))"
      ],
      "metadata": {
        "colab": {
          "base_uri": "https://localhost:8080/"
        },
        "id": "yb1Fp7JFHztl",
        "outputId": "6c1bdb52-5873-4362-e435-63161b40e0ff"
      },
      "execution_count": null,
      "outputs": [
        {
          "output_type": "stream",
          "name": "stdout",
          "text": [
            "--------------------\n",
            "Nome completo: Saulo Jubilado Catharino\n",
            "Naturalidade: Rio de Janeiro\n",
            "Nacionalidade: Brasileira\n"
          ]
        }
      ]
    },
    {
      "cell_type": "code",
      "source": [
        "# O símbolo de adição '+' opera de maneira diferente com strings e inteiros\n",
        "\n",
        "texto1 = '1'\n",
        "texto2 = \"1\"\n",
        "\n",
        "valor1 = 1\n",
        "valor2 = 1\n",
        "\n",
        "# O símbolo de adição concatena a string\n",
        "print(texto1 + texto2)\n",
        "\n",
        "\n",
        "print(valor1 + valor2)"
      ],
      "metadata": {
        "colab": {
          "base_uri": "https://localhost:8080/"
        },
        "id": "7Xu8uEnKvUsh",
        "outputId": "e42410f4-840b-4131-f19c-bafdac2e0af8"
      },
      "execution_count": null,
      "outputs": [
        {
          "output_type": "stream",
          "name": "stdout",
          "text": [
            "11\n",
            "2\n"
          ]
        }
      ]
    },
    {
      "cell_type": "code",
      "source": [
        "texto = \"Meu nome é Saulo Catharino, eu nasci no Rio de Janeiro. Cria da Freguesia, terra de skatista.\"\n",
        "quebrado = texto.split(\",\")\n",
        "\n",
        "for parte in quebrado:\n",
        "  print(\"---------->\",parte)"
      ],
      "metadata": {
        "colab": {
          "base_uri": "https://localhost:8080/"
        },
        "id": "FzfvY2ya6VCZ",
        "outputId": "10a82f08-1468-48f6-c1f8-d130955031a6"
      },
      "execution_count": null,
      "outputs": [
        {
          "output_type": "stream",
          "name": "stdout",
          "text": [
            "----------> Meu nome é Saulo Catharino\n",
            "---------->  eu nasci no Rio de Janeiro. Cria da Freguesia\n",
            "---------->  terra de skatista.\n"
          ]
        }
      ]
    },
    {
      "cell_type": "code",
      "source": [
        "texto = \"Meu nome é Saulo Catharino, eu nasci no Rio de Janeiro.\"\n",
        "\n",
        "# Adquire parte da string, do décimo primeiro ao quadragésimo caractere utilizando slice\n",
        "parte = texto[11:40]\n",
        "\n",
        "# Divide a string em uma lista a partir da vírgula\n",
        "cortado_virgula = texto.split(\",\")\n",
        "\n",
        "# Divide a string em uma lista de elementos a partir dos 'espaços' \n",
        "cortado_espaco = texto.split(\" \")\n",
        "\n",
        "print(parte)\n",
        "\n",
        "print(\"-\"*20)\n",
        "print(\"Cortado por vírgula\")\n",
        "print()\n",
        "for cortado in cortado_virgula:\n",
        "  print(cortado)\n",
        "\n",
        "print(\"-\"*20)\n",
        "print(\"Cortado por espaço\")\n",
        "print()\n",
        "\n",
        "for cortado in cortado_espaco:\n",
        "  print(cortado)\n",
        "\n",
        "print(\"-\"*20)\n",
        "print(\"Cortado por espaço em ordem do código ASCII\")\n",
        "print()\n",
        "\n",
        "for cortado in sorted(cortado_espaco):\n",
        "  print(cortado)"
      ],
      "metadata": {
        "colab": {
          "base_uri": "https://localhost:8080/"
        },
        "id": "Lt6EOLcGIgU4",
        "outputId": "a8351255-5ca2-41e0-96ab-2e779f4b1832"
      },
      "execution_count": null,
      "outputs": [
        {
          "output_type": "stream",
          "name": "stdout",
          "text": [
            "Saulo Catharino, eu nasci no \n",
            "--------------------\n",
            "Cortado por vírgula\n",
            "\n",
            "Meu nome é Saulo Catharino\n",
            " eu nasci no Rio de Janeiro.\n",
            "--------------------\n",
            "Cortado por espaço\n",
            "\n",
            "Meu\n",
            "nome\n",
            "é\n",
            "Saulo\n",
            "Catharino,\n",
            "eu\n",
            "nasci\n",
            "no\n",
            "Rio\n",
            "de\n",
            "Janeiro.\n",
            "--------------------\n",
            "Cortado por espaço em ordem do código ASCII\n",
            "\n",
            "Catharino,\n",
            "Janeiro.\n",
            "Meu\n",
            "Rio\n",
            "Saulo\n",
            "de\n",
            "eu\n",
            "nasci\n",
            "no\n",
            "nome\n",
            "é\n"
          ]
        }
      ]
    },
    {
      "cell_type": "code",
      "source": [
        "# Completando strings com zeros para um tamanho determinado\n",
        "\n",
        "banana = '4.50'\n",
        "arroz_5kg = '16.00'\n",
        "picanha = '38.69'\n",
        "presunto_pata_negra = '419.99'\n",
        "\n",
        "banana = banana.zfill(10)\n",
        "\n",
        "\n",
        "arroz_5kg = arroz_5kg.zfill(10)\n",
        "\n",
        "picanha = picanha.zfill(10)\n",
        "\n",
        "presunto_pata_negra = presunto_pata_negra.zfill(10)\n",
        "\n",
        "print(banana)\n",
        "print(arroz_5kg)\n",
        "print(picanha)\n",
        "print(presunto_pata_negra)"
      ],
      "metadata": {
        "colab": {
          "base_uri": "https://localhost:8080/"
        },
        "id": "s5YUusktt2Lz",
        "outputId": "3c6b9e52-b461-473c-da5f-07bf1c6a3afc"
      },
      "execution_count": null,
      "outputs": [
        {
          "output_type": "stream",
          "name": "stdout",
          "text": [
            "0000004.50\n",
            "0000016.00\n",
            "0000038.69\n",
            "0000419.99\n"
          ]
        }
      ]
    },
    {
      "cell_type": "code",
      "source": [
        "texto = 'Araçatuba não fica perto de São Paulo'\n",
        "\n",
        "# Converte todo conteúdo para caixa alta\n",
        "texto2 = texto.upper()\n",
        "\n",
        "# Substitui caractere\n",
        "texto3 = texto2.replace(\"Ç\", \"C\").replace(\"Ã\",\"A\").replace(\" \",\"-\")\n",
        "\n",
        "# Converte todo conteúdo para caixa baixa\n",
        "texto4 = texto3.lower()\n",
        "\n",
        "# O conjunto '\\n' adiciona uma quebra de linha após o texto\n",
        "print(\"Texto original:\\n{}\\n\".format(texto))\n",
        "print(\"Caixa Alta:\\n{}\\n\".format(texto2))\n",
        "print(\"Sem Caractere Especial:\\n{}\\n\".format(texto3))\n",
        "print(\"Caixa Baixa:\\n{}\\n\".format(texto4))\n"
      ],
      "metadata": {
        "colab": {
          "base_uri": "https://localhost:8080/"
        },
        "id": "WdPvdrZ2wHq5",
        "outputId": "ce832243-a78c-4ca8-f67b-8bd2e7460c0b"
      },
      "execution_count": null,
      "outputs": [
        {
          "output_type": "stream",
          "name": "stdout",
          "text": [
            "Texto original:\n",
            "Araçatuba não fica perto de São Paulo\n",
            "\n",
            "Caixa Alta:\n",
            "ARAÇATUBA NÃO FICA PERTO DE SÃO PAULO\n",
            "\n",
            "Sem Caractere Especial:\n",
            "ARACATUBA-NAO-FICA-PERTO-DE-SAO-PAULO\n",
            "\n",
            "Caixa Baixa:\n",
            "aracatuba-nao-fica-perto-de-sao-paulo\n",
            "\n"
          ]
        }
      ]
    },
    {
      "cell_type": "markdown",
      "source": [
        "## **BOOLEAN (bool)**"
      ],
      "metadata": {
        "id": "50hzglv4LLI4"
      }
    },
    {
      "cell_type": "code",
      "source": [
        "# Expressão para comparação entre dois valores\n",
        "2 + 2 == 2 * 2 == 2 ** 2"
      ],
      "metadata": {
        "colab": {
          "base_uri": "https://localhost:8080/"
        },
        "id": "VG25H-i7Nezx",
        "outputId": "655c696d-fd69-4c65-b7f7-66e5f7a92877"
      },
      "execution_count": null,
      "outputs": [
        {
          "output_type": "execute_result",
          "data": {
            "text/plain": [
              "True"
            ]
          },
          "metadata": {},
          "execution_count": 81
        }
      ]
    },
    {
      "cell_type": "code",
      "source": [
        "# Comparação entre strings\n",
        "\"saulo\" == \"saul\" + \"o\""
      ],
      "metadata": {
        "colab": {
          "base_uri": "https://localhost:8080/"
        },
        "id": "q7233WXVNtpB",
        "outputId": "3e98d52f-cec7-4db9-ed90-7e912cf204bd"
      },
      "execution_count": null,
      "outputs": [
        {
          "output_type": "execute_result",
          "data": {
            "text/plain": [
              "True"
            ]
          },
          "metadata": {},
          "execution_count": 82
        }
      ]
    },
    {
      "cell_type": "code",
      "source": [
        "# Comparação entre duas strings com caixa alta e caixa baixa no primeiro caractere\n",
        "\"Saulo\" == \"saulo\""
      ],
      "metadata": {
        "colab": {
          "base_uri": "https://localhost:8080/"
        },
        "id": "DZ0q2xMZN2WB",
        "outputId": "00bd77f3-ad0b-40ab-9c28-e57b2174bf03"
      },
      "execution_count": null,
      "outputs": [
        {
          "output_type": "execute_result",
          "data": {
            "text/plain": [
              "False"
            ]
          },
          "metadata": {},
          "execution_count": 83
        }
      ]
    },
    {
      "cell_type": "code",
      "source": [
        "# Comparação entre duas listas\n",
        "a = [1,2,3,4,5]\n",
        "b = [2,3,4,5,6]\n",
        "\n",
        "a == b"
      ],
      "metadata": {
        "colab": {
          "base_uri": "https://localhost:8080/"
        },
        "id": "TaR5gci7Nvs4",
        "outputId": "fa1c33e4-5b46-498a-bd46-d00d6c44e86f"
      },
      "execution_count": null,
      "outputs": [
        {
          "output_type": "execute_result",
          "data": {
            "text/plain": [
              "False"
            ]
          },
          "metadata": {},
          "execution_count": 91
        }
      ]
    },
    {
      "cell_type": "code",
      "source": [
        "# Comparação entre os elementos de duas listas\n",
        "\n",
        "a[1:] == b[:-1]"
      ],
      "metadata": {
        "colab": {
          "base_uri": "https://localhost:8080/"
        },
        "id": "RJNpuokUxxXg",
        "outputId": "454d6d51-2929-4255-9272-8c0de9e9c690"
      },
      "execution_count": null,
      "outputs": [
        {
          "output_type": "execute_result",
          "data": {
            "text/plain": [
              "True"
            ]
          },
          "metadata": {},
          "execution_count": 87
        }
      ]
    },
    {
      "cell_type": "code",
      "source": [
        "nome_completo_a = \"Saulo Jubilado Catharino\"\n",
        "nome_completo_b = \"Joseph Catharino Pinto\"\n",
        "nome_completo_c = \"Claudio Pinto Rêgo\"\n",
        "\n",
        "# compara sobrenomes\n",
        "\n",
        "def compara_sobrenomes(a,b):\n",
        "  nomes_a = a.split(\" \")\n",
        "  nomes_b = b.split(\" \")\n",
        "\n",
        "  if nomes_a[1] == nomes_b[1] or nomes_a[1] == nomes_b[2] or nomes_a[2] == nomes_b[2] or nomes_a[2] == nomes_b[1]:\n",
        "    return \"Parente\"\n",
        "  else:\n",
        "    return \"Não é Parente\"\n",
        "\n",
        "print(nome_completo_a, ' - ', nome_completo_b, ' = ' ,compara_sobrenomes(nome_completo_a,nome_completo_b))\n",
        "print(nome_completo_a, ' - ', nome_completo_c, ' = ' ,compara_sobrenomes(nome_completo_a,nome_completo_c))\n",
        "print(nome_completo_b, ' - ', nome_completo_c, ' = ' ,compara_sobrenomes(nome_completo_b,nome_completo_c))\n"
      ],
      "metadata": {
        "colab": {
          "base_uri": "https://localhost:8080/"
        },
        "id": "32Zl0slLLTBV",
        "outputId": "a21222c7-a6e8-4726-8e89-7da9a23b978a"
      },
      "execution_count": null,
      "outputs": [
        {
          "output_type": "stream",
          "name": "stdout",
          "text": [
            "Saulo Jubilado Catharino  -  Joseph Catharino Pinto  =  Parente\n",
            "Saulo Jubilado Catharino  -  Claudio Pinto Rêgo  =  Não é Parente\n",
            "Joseph Catharino Pinto  -  Claudio Pinto Rêgo  =  Parente\n"
          ]
        }
      ]
    },
    {
      "cell_type": "markdown",
      "source": [
        "## **LISTA (list)**"
      ],
      "metadata": {
        "id": "pZbqq7HwOAH8"
      }
    },
    {
      "cell_type": "code",
      "source": [
        "# Criação de lista com função 'list'\n",
        "nomes = list(['Pedro', 'Maria', 'José'])\n",
        "\n",
        "# Criação da lista sem função\n",
        "cores = ['verde', 'azul', 'amarelo']\n",
        "\n",
        "print(type(nomes))\n",
        "\n",
        "print(type(cores))\n",
        "\n",
        "print(nomes)\n",
        "print(cores)"
      ],
      "metadata": {
        "colab": {
          "base_uri": "https://localhost:8080/"
        },
        "id": "miUlFUxCzfIH",
        "outputId": "033a2715-340d-4d31-ba79-318ce2b66be9"
      },
      "execution_count": null,
      "outputs": [
        {
          "output_type": "stream",
          "name": "stdout",
          "text": [
            "<class 'list'>\n",
            "<class 'list'>\n",
            "['Pedro', 'Maria', 'José']\n",
            "['verde', 'azul', 'amarelo']\n"
          ]
        }
      ]
    },
    {
      "cell_type": "code",
      "source": [
        "formulario = [\"Saulo Jubilado Catharino\", \"Rio de Janeiro\", \"Brasileiro\", 42]\n",
        "\n",
        "print(\"Nome: {}\".format(formulario[0]))\n",
        "print(\"Naturalidade: {}\".format(formulario[1]))\n",
        "print(\"Nacionalidade: {}\".format(formulario[2]))\n",
        "print(\"Tamanho do pé: {}\".format(formulario[3]))"
      ],
      "metadata": {
        "colab": {
          "base_uri": "https://localhost:8080/"
        },
        "id": "sVgeRbonOE6x",
        "outputId": "870c2a68-6ea2-460d-f66e-17153e4f6b94"
      },
      "execution_count": null,
      "outputs": [
        {
          "output_type": "stream",
          "name": "stdout",
          "text": [
            "Nome: Saulo Jubilado Catharino\n",
            "Naturalidade: Rio de Janeiro\n",
            "Nacionalidade: Brasileiro\n",
            "Tamanho do pé: 42\n"
          ]
        }
      ]
    },
    {
      "cell_type": "code",
      "source": [
        "alunos = ['Fenanda', 'Paulo', 'Alfredo', 'Camila']\n",
        "\n",
        "# Altera o valor do Index 2 da lista.\n",
        "alunos[2] = 'Albertina'\n",
        "\n",
        "print(alunos)\n"
      ],
      "metadata": {
        "colab": {
          "base_uri": "https://localhost:8080/"
        },
        "id": "oTGJViRepuW_",
        "outputId": "02195a23-7d19-41f5-b8ac-99a883e7c538"
      },
      "execution_count": null,
      "outputs": [
        {
          "output_type": "stream",
          "name": "stdout",
          "text": [
            "['Fenanda', 'Paulo', 'Albertina', 'Camila']\n"
          ]
        }
      ]
    },
    {
      "cell_type": "code",
      "source": [
        "\n",
        "# Ajusta lista para ordem reversa do original\n",
        "print(list(reversed(alunos)))\n",
        "\n",
        "# Ajusta lista para ordem segundo o código ASCII\n",
        "print(sorted(alunos))\n",
        "\n",
        "# Ajusta lista para ordem reversa ao código ASCII\n",
        "print(list(reversed(sorted(alunos))))"
      ],
      "metadata": {
        "colab": {
          "base_uri": "https://localhost:8080/"
        },
        "id": "XpnKjUUazXCt",
        "outputId": "e3830811-bd3d-41e8-e22a-9df1f186cc43"
      },
      "execution_count": null,
      "outputs": [
        {
          "output_type": "stream",
          "name": "stdout",
          "text": [
            "['Camila', 'Albertina', 'Paulo', 'Fenanda']\n",
            "['Albertina', 'Camila', 'Fenanda', 'Paulo']\n",
            "['Paulo', 'Fenanda', 'Camila', 'Albertina']\n"
          ]
        }
      ]
    },
    {
      "cell_type": "code",
      "source": [
        "# Remove 'Camila' da lista\n",
        "alunos.remove('Paulo')\n",
        "\n",
        "print(alunos)"
      ],
      "metadata": {
        "colab": {
          "base_uri": "https://localhost:8080/"
        },
        "id": "9XCxOWvatcLf",
        "outputId": "9eb1239d-5443-43c5-c3d1-c528e98035bc"
      },
      "execution_count": null,
      "outputs": [
        {
          "output_type": "stream",
          "name": "stdout",
          "text": [
            "['Fenanda', 'Albertina', 'Camila']\n"
          ]
        }
      ]
    },
    {
      "cell_type": "code",
      "source": [
        "valores_do_nike = [144.50, 167.60, 111.99, 155.20, 189.99]\n",
        "valores_do_adidas = [154.50, 143.60, 134.99, 146.20, 211.99]\n",
        "\n",
        "# Calcula a média somando todos os valores e dividindo pelo número de valores na lista\n",
        "media_nike = sum(valores_do_nike) / len(valores_do_nike)\n",
        "media_adidas = sum(valores_do_adidas) / len(valores_do_adidas)\n",
        "\n",
        "print(\"Valor Médio do Nike: {}\".format(round(media_nike,2)))\n",
        "print(\"Valor Médio do Adidas: {}\".format(round(media_adidas,2)))\n"
      ],
      "metadata": {
        "colab": {
          "base_uri": "https://localhost:8080/"
        },
        "id": "U_oZvSlQOm2g",
        "outputId": "31b4039d-a4e8-410c-f2fa-cca49292a11e"
      },
      "execution_count": null,
      "outputs": [
        {
          "output_type": "stream",
          "name": "stdout",
          "text": [
            "Valor Médio do Nike: 153.86\n",
            "Valor Médio do Adidas: 158.26\n"
          ]
        }
      ]
    },
    {
      "cell_type": "code",
      "source": [
        "import matplotlib.pyplot as plt\n",
        "import seaborn\n",
        "seaborn.set();\n",
        "\n",
        "# Cria figura para plotagem com tamanho 20 x 10\n",
        "figurante, ax = plt.subplots(1, figsize=(20,10));\n",
        "\n",
        "ax.set_title(\"Variação dos Valores das Marcas\")\n",
        "\n",
        "# Plota os valores do nike em uma linha com a cor azul\n",
        "ax.plot(valores_do_nike, color = 'blue', label = \"Nike Média - R$ {}\".format(media_nike));\n",
        "\n",
        "for e,item in enumerate(valores_do_nike):\n",
        "  # Plota os valores do nike em esferas com a cor azul\n",
        "  ax.scatter(e,item, color = 'blue');\n",
        "\n",
        "\n",
        "# Plota os valores do adidas em uma linha com a cor laranja\n",
        "ax.plot(valores_do_adidas, color = 'orange', label = \"Adidas Média - R$ {}\".format(media_adidas))\n",
        "\n",
        "for e,item in enumerate(valores_do_adidas):\n",
        "  # Plota os valores do adidas em esferas com a cor laranja\n",
        "  ax.scatter(e,item, color = 'orange');\n",
        "\n",
        "# habilita exibição das legendas\n",
        "ax.legend();"
      ],
      "metadata": {
        "colab": {
          "base_uri": "https://localhost:8080/",
          "height": 610
        },
        "id": "fQV6NayPPB4w",
        "outputId": "9573d649-d28d-4b39-f138-cb5c746f7f1a"
      },
      "execution_count": null,
      "outputs": [
        {
          "output_type": "display_data",
          "data": {
            "image/png": "[encoded data removed]",
            "text/plain": [
              "<Figure size 1440x720 with 1 Axes>"
            ]
          },
          "metadata": {}
        }
      ]
    },
    {
      "cell_type": "markdown",
      "source": [
        "## **TUPLA (tuple)**"
      ],
      "metadata": {
        "id": "u4tlZd7kx8aV"
      }
    },
    {
      "cell_type": "code",
      "source": [
        "!pip install git+https://github.com/python-visualization/folium"
      ],
      "metadata": {
        "colab": {
          "base_uri": "https://localhost:8080/"
        },
        "id": "eRfMhtex0hJD",
        "outputId": "a89731cb-3d67-4b82-e755-0e5997c9f9b4"
      },
      "execution_count": null,
      "outputs": [
        {
          "output_type": "stream",
          "name": "stdout",
          "text": [
            "Collecting git+https://github.com/python-visualization/folium\n",
            "  Cloning https://github.com/python-visualization/folium to /tmp/pip-req-build-pvp0j652\n",
            "  Running command git clone -q https://github.com/python-visualization/folium /tmp/pip-req-build-pvp0j652\n",
            "  Installing build dependencies ... \u001b[?25l\u001b[?25hdone\n",
            "  Getting requirements to build wheel ... \u001b[?25l\u001b[?25hdone\n",
            "    Preparing wheel metadata ... \u001b[?25l\u001b[?25hdone\n",
            "Requirement already satisfied: jinja2>=2.9 in /usr/local/lib/python3.7/dist-packages (from folium==0.12.1.dev50+g67aab11) (2.11.3)\n",
            "Requirement already satisfied: branca>=0.3.0 in /usr/local/lib/python3.7/dist-packages (from folium==0.12.1.dev50+g67aab11) (0.4.2)\n",
            "Requirement already satisfied: requests in /usr/local/lib/python3.7/dist-packages (from folium==0.12.1.dev50+g67aab11) (2.23.0)\n",
            "Requirement already satisfied: numpy in /usr/local/lib/python3.7/dist-packages (from folium==0.12.1.dev50+g67aab11) (1.19.5)\n",
            "Requirement already satisfied: MarkupSafe>=0.23 in /usr/local/lib/python3.7/dist-packages (from jinja2>=2.9->folium==0.12.1.dev50+g67aab11) (2.0.1)\n",
            "Requirement already satisfied: urllib3!=1.25.0,!=1.25.1,<1.26,>=1.21.1 in /usr/local/lib/python3.7/dist-packages (from requests->folium==0.12.1.dev50+g67aab11) (1.24.3)\n",
            "Requirement already satisfied: certifi>=2017.4.17 in /usr/local/lib/python3.7/dist-packages (from requests->folium==0.12.1.dev50+g67aab11) (2021.10.8)\n",
            "Requirement already satisfied: chardet<4,>=3.0.2 in /usr/local/lib/python3.7/dist-packages (from requests->folium==0.12.1.dev50+g67aab11) (3.0.4)\n",
            "Requirement already satisfied: idna<3,>=2.5 in /usr/local/lib/python3.7/dist-packages (from requests->folium==0.12.1.dev50+g67aab11) (2.10)\n",
            "Building wheels for collected packages: folium\n",
            "  Building wheel for folium (PEP 517) ... \u001b[?25l\u001b[?25hdone\n",
            "  Created wheel for folium: filename=folium-0.12.1.dev50+g67aab11-py2.py3-none-any.whl size=94734 sha256=de2c7fd8f9a57976cdf810511e22765fef4fcecfc542e84328336f506251370c\n",
            "  Stored in directory: /tmp/pip-ephem-wheel-cache-ki_c9mk0/wheels/c7/41/34/51d4fc16546a2a77c5ca875d9232ebf13d902dd87615be512c\n",
            "Successfully built folium\n",
            "Installing collected packages: folium\n",
            "  Attempting uninstall: folium\n",
            "    Found existing installation: folium 0.8.3\n",
            "    Uninstalling folium-0.8.3:\n",
            "      Successfully uninstalled folium-0.8.3\n",
            "\u001b[31mERROR: pip's dependency resolver does not currently take into account all the packages that are installed. This behaviour is the source of the following dependency conflicts.\n",
            "datascience 0.10.6 requires folium==0.2.1, but you have folium 0.12.1.dev50+g67aab11 which is incompatible.\u001b[0m\n",
            "Successfully installed folium-0.12.1.dev50+g67aab11\n"
          ]
        }
      ]
    },
    {
      "cell_type": "code",
      "source": [
        "import folium\n",
        "\n",
        "# Construção das Tuplas com as coordenadas latitude e longitude\n",
        "minha_casa = [-23.0625223,-43.5659516]\n",
        "praia_pequena = [-23.0649001,-43.5684919]\n",
        "praia_grande = [-23.067697,-43.568053]\n",
        "\n",
        "# Objeto para construção do mapa\n",
        "m = folium.Map(\n",
        "    location= minha_casa,\n",
        "    zoom_start=8,\n",
        "    tiles= 'Stamen Toner'\n",
        ")\n",
        "\n",
        "\n",
        "# Adiciona marcadores ao mapa\n",
        "\n",
        "folium.Marker(location=minha_casa, icon=folium.Icon(color='pink', icon='info-sign')).add_child(folium.Popup('Minha Casa')).add_to(m)\n",
        "folium.Marker(location=praia_pequena).add_child(folium.Popup('Praia Pequena')).add_to(m)\n",
        "folium.Marker(location=praia_grande).add_child(folium.Popup('Praia Grande')).add_to(m)\n",
        "\n",
        "\n",
        "# Exibe o mapa\n",
        "m"
      ],
      "metadata": {
        "colab": {
          "base_uri": "https://localhost:8080/",
          "height": 723
        },
        "id": "s8YgHfkD0ls7",
        "outputId": "4d7632c6-587f-4f53-9397-210b02cbf2b1"
      },
      "execution_count": null,
      "outputs": [
        {
          "output_type": "execute_result",
          "data": {
            "text/html": [
              "<div style=\"width:100%;\"><div style=\"position:relative;width:100%;height:0;padding-bottom:60%;\"><span style=\"color:#565656\">Make this Notebook Trusted to load map: File -> Trust Notebook</span><iframe src=\"about:blank\" style=\"position:absolute;width:100%;height:100%;left:0;top:0;border:none !important;\" data-html=%3C%21DOCTYPE%20html%3E%0A%3Chead%3E%20%20%20%20%0A%20%20%20%20%3Cmeta%20http-equiv%3D%22content-type%22%20content%3D%22text/html%3B%20charset%3DUTF-8%22%20/%3E%0A%20%20%20%20%3Cscript%3EL_PREFER_CANVAS%3Dfalse%3B%20L_NO_TOUCH%3Dfalse%3B%20L_DISABLE_3D%3Dfalse%3B%3C/script%3E%0A%20%20%20%20%3Cscript%20src%3D%22https%3A//cdn.jsdelivr.net/npm/leaflet%401.4.0/dist/leaflet.js%22%3E%3C/script%3E%0A%20%20%20%20%3Cscript%20src%3D%22https%3A//code.jquery.com/jquery-1.12.4.min.js%22%3E%3C/script%3E%0A%20%20%20%20%3Cscript%20src%3D%22https%3A//maxcdn.bootstrapcdn.com/bootstrap/3.2.0/js/bootstrap.min.js%22%3E%3C/script%3E%0A%20%20%20%20%3Cscript%20src%3D%22https%3A//cdnjs.cloudflare.com/ajax/libs/Leaflet.awesome-markers/2.0.2/leaflet.awesome-markers.js%22%3E%3C/script%3E%0A%20%20%20%20%3Clink%20rel%3D%22stylesheet%22%20href%3D%22https%3A//cdn.jsdelivr.net/npm/leaflet%401.4.0/dist/leaflet.css%22/%3E%0A%20%20%20%20%3Clink%20rel%3D%22stylesheet%22%20href%3D%22https%3A//maxcdn.bootstrapcdn.com/bootstrap/3.2.0/css/bootstrap.min.css%22/%3E%0A%20%20%20%20%3Clink%20rel%3D%22stylesheet%22%20href%3D%22https%3A//maxcdn.bootstrapcdn.com/bootstrap/3.2.0/css/bootstrap-theme.min.css%22/%3E%0A%20%20%20%20%3Clink%20rel%3D%22stylesheet%22%20href%3D%22https%3A//maxcdn.bootstrapcdn.com/font-awesome/4.6.3/css/font-awesome.min.css%22/%3E%0A%20%20%20%20%3Clink%20rel%3D%22stylesheet%22%20href%3D%22https%3A//cdnjs.cloudflare.com/ajax/libs/Leaflet.awesome-markers/2.0.2/leaflet.awesome-markers.css%22/%3E%0A%20%20%20%20%3Clink%20rel%3D%22stylesheet%22%20href%3D%22https%3A//rawcdn.githack.com/python-visualization/folium/master/folium/templates/leaflet.awesome.rotate.css%22/%3E%0A%20%20%20%20%3Cstyle%3Ehtml%2C%20body%20%7Bwidth%3A%20100%25%3Bheight%3A%20100%25%3Bmargin%3A%200%3Bpadding%3A%200%3B%7D%3C/style%3E%0A%20%20%20%20%3Cstyle%3E%23map%20%7Bposition%3Aabsolute%3Btop%3A0%3Bbottom%3A0%3Bright%3A0%3Bleft%3A0%3B%7D%3C/style%3E%0A%20%20%20%20%0A%20%20%20%20%3Cmeta%20name%3D%22viewport%22%20content%3D%22width%3Ddevice-width%2C%0A%20%20%20%20%20%20%20%20initial-scale%3D1.0%2C%20maximum-scale%3D1.0%2C%20user-scalable%3Dno%22%20/%3E%0A%20%20%20%20%3Cstyle%3E%23map_892615da0ab24d4bbf4d8735c8a3dbbd%20%7B%0A%20%20%20%20%20%20%20%20position%3A%20relative%3B%0A%20%20%20%20%20%20%20%20width%3A%20100.0%25%3B%0A%20%20%20%20%20%20%20%20height%3A%20100.0%25%3B%0A%20%20%20%20%20%20%20%20left%3A%200.0%25%3B%0A%20%20%20%20%20%20%20%20top%3A%200.0%25%3B%0A%20%20%20%20%20%20%20%20%7D%0A%20%20%20%20%3C/style%3E%0A%3C/head%3E%0A%3Cbody%3E%20%20%20%20%0A%20%20%20%20%0A%20%20%20%20%3Cdiv%20class%3D%22folium-map%22%20id%3D%22map_892615da0ab24d4bbf4d8735c8a3dbbd%22%20%3E%3C/div%3E%0A%3C/body%3E%0A%3Cscript%3E%20%20%20%20%0A%20%20%20%20%0A%20%20%20%20%0A%20%20%20%20%20%20%20%20var%20bounds%20%3D%20null%3B%0A%20%20%20%20%0A%0A%20%20%20%20var%20map_892615da0ab24d4bbf4d8735c8a3dbbd%20%3D%20L.map%28%0A%20%20%20%20%20%20%20%20%27map_892615da0ab24d4bbf4d8735c8a3dbbd%27%2C%20%7B%0A%20%20%20%20%20%20%20%20center%3A%20%5B-23.0625223%2C%20-43.5659516%5D%2C%0A%20%20%20%20%20%20%20%20zoom%3A%208%2C%0A%20%20%20%20%20%20%20%20maxBounds%3A%20bounds%2C%0A%20%20%20%20%20%20%20%20layers%3A%20%5B%5D%2C%0A%20%20%20%20%20%20%20%20worldCopyJump%3A%20false%2C%0A%20%20%20%20%20%20%20%20crs%3A%20L.CRS.EPSG3857%2C%0A%20%20%20%20%20%20%20%20zoomControl%3A%20true%2C%0A%20%20%20%20%20%20%20%20%7D%29%3B%0A%0A%0A%20%20%20%20%0A%20%20%20%20var%20tile_layer_6569d210729a426f88e88c0cfe6957d0%20%3D%20L.tileLayer%28%0A%20%20%20%20%20%20%20%20%27https%3A//stamen-tiles-%7Bs%7D.a.ssl.fastly.net/toner/%7Bz%7D/%7Bx%7D/%7By%7D.png%27%2C%0A%20%20%20%20%20%20%20%20%7B%0A%20%20%20%20%20%20%20%20%22attribution%22%3A%20null%2C%0A%20%20%20%20%20%20%20%20%22detectRetina%22%3A%20false%2C%0A%20%20%20%20%20%20%20%20%22maxNativeZoom%22%3A%2018%2C%0A%20%20%20%20%20%20%20%20%22maxZoom%22%3A%2018%2C%0A%20%20%20%20%20%20%20%20%22minZoom%22%3A%200%2C%0A%20%20%20%20%20%20%20%20%22noWrap%22%3A%20false%2C%0A%20%20%20%20%20%20%20%20%22opacity%22%3A%201%2C%0A%20%20%20%20%20%20%20%20%22subdomains%22%3A%20%22abc%22%2C%0A%20%20%20%20%20%20%20%20%22tms%22%3A%20false%0A%7D%29.addTo%28map_892615da0ab24d4bbf4d8735c8a3dbbd%29%3B%0A%20%20%20%20%0A%20%20%20%20%20%20%20%20var%20marker_38f92dd485e245809fa08a3d1eed36ae%20%3D%20L.marker%28%0A%20%20%20%20%20%20%20%20%20%20%20%20%5B-23.0625223%2C%20-43.5659516%5D%2C%0A%20%20%20%20%20%20%20%20%20%20%20%20%7B%0A%20%20%20%20%20%20%20%20%20%20%20%20%20%20%20%20icon%3A%20new%20L.Icon.Default%28%29%2C%0A%20%20%20%20%20%20%20%20%20%20%20%20%20%20%20%20%7D%0A%20%20%20%20%20%20%20%20%20%20%20%20%29.addTo%28map_892615da0ab24d4bbf4d8735c8a3dbbd%29%3B%0A%20%20%20%20%20%20%20%20%0A%20%20%20%20%0A%0A%20%20%20%20%20%20%20%20%20%20%20%20%20%20%20%20var%20icon_69e7d54923a14f32af32deb75ccfbc01%20%3D%20L.AwesomeMarkers.icon%28%7B%0A%20%20%20%20%20%20%20%20%20%20%20%20%20%20%20%20%20%20%20%20icon%3A%20%27info-sign%27%2C%0A%20%20%20%20%20%20%20%20%20%20%20%20%20%20%20%20%20%20%20%20iconColor%3A%20%27white%27%2C%0A%20%20%20%20%20%20%20%20%20%20%20%20%20%20%20%20%20%20%20%20markerColor%3A%20%27pink%27%2C%0A%20%20%20%20%20%20%20%20%20%20%20%20%20%20%20%20%20%20%20%20prefix%3A%20%27glyphicon%27%2C%0A%20%20%20%20%20%20%20%20%20%20%20%20%20%20%20%20%20%20%20%20extraClasses%3A%20%27fa-rotate-0%27%0A%20%20%20%20%20%20%20%20%20%20%20%20%20%20%20%20%20%20%20%20%7D%29%3B%0A%20%20%20%20%20%20%20%20%20%20%20%20%20%20%20%20marker_38f92dd485e245809fa08a3d1eed36ae.setIcon%28icon_69e7d54923a14f32af32deb75ccfbc01%29%3B%0A%20%20%20%20%20%20%20%20%20%20%20%20%0A%20%20%20%20%0A%20%20%20%20%20%20%20%20%20%20%20%20var%20popup_a83003292fa74100bb2a27ccf645133e%20%3D%20L.popup%28%7BmaxWidth%3A%20%27100%25%27%0A%20%20%20%20%20%20%20%20%20%20%20%20%0A%20%20%20%20%20%20%20%20%20%20%20%20%7D%29%3B%0A%0A%20%20%20%20%20%20%20%20%20%20%20%20%0A%20%20%20%20%20%20%20%20%20%20%20%20%20%20%20%20var%20html_f2bf6c76691a49e39a7047d72a85c787%20%3D%20%24%28%60%3Cdiv%20id%3D%22html_f2bf6c76691a49e39a7047d72a85c787%22%20style%3D%22width%3A%20100.0%25%3B%20height%3A%20100.0%25%3B%22%3EMinha%20Casa%3C/div%3E%60%29%5B0%5D%3B%0A%20%20%20%20%20%20%20%20%20%20%20%20%20%20%20%20popup_a83003292fa74100bb2a27ccf645133e.setContent%28html_f2bf6c76691a49e39a7047d72a85c787%29%3B%0A%20%20%20%20%20%20%20%20%20%20%20%20%0A%0A%20%20%20%20%20%20%20%20%20%20%20%20marker_38f92dd485e245809fa08a3d1eed36ae.bindPopup%28popup_a83003292fa74100bb2a27ccf645133e%29%0A%20%20%20%20%20%20%20%20%20%20%20%20%3B%0A%0A%20%20%20%20%20%20%20%20%20%20%20%20%0A%20%20%20%20%20%20%20%20%0A%20%20%20%20%0A%20%20%20%20%20%20%20%20var%20marker_56f9aa739365498ead953bad67b35d7e%20%3D%20L.marker%28%0A%20%20%20%20%20%20%20%20%20%20%20%20%5B-23.0649001%2C%20-43.5684919%5D%2C%0A%20%20%20%20%20%20%20%20%20%20%20%20%7B%0A%20%20%20%20%20%20%20%20%20%20%20%20%20%20%20%20icon%3A%20new%20L.Icon.Default%28%29%2C%0A%20%20%20%20%20%20%20%20%20%20%20%20%20%20%20%20%7D%0A%20%20%20%20%20%20%20%20%20%20%20%20%29.addTo%28map_892615da0ab24d4bbf4d8735c8a3dbbd%29%3B%0A%20%20%20%20%20%20%20%20%0A%20%20%20%20%0A%20%20%20%20%20%20%20%20%20%20%20%20var%20popup_0e17fa59b7bb403285a9fbd91bb0f2bc%20%3D%20L.popup%28%7BmaxWidth%3A%20%27100%25%27%0A%20%20%20%20%20%20%20%20%20%20%20%20%0A%20%20%20%20%20%20%20%20%20%20%20%20%7D%29%3B%0A%0A%20%20%20%20%20%20%20%20%20%20%20%20%0A%20%20%20%20%20%20%20%20%20%20%20%20%20%20%20%20var%20html_4e1fc5b2333345bd83ac4296690d7976%20%3D%20%24%28%60%3Cdiv%20id%3D%22html_4e1fc5b2333345bd83ac4296690d7976%22%20style%3D%22width%3A%20100.0%25%3B%20height%3A%20100.0%25%3B%22%3EPraia%20Pequena%3C/div%3E%60%29%5B0%5D%3B%0A%20%20%20%20%20%20%20%20%20%20%20%20%20%20%20%20popup_0e17fa59b7bb403285a9fbd91bb0f2bc.setContent%28html_4e1fc5b2333345bd83ac4296690d7976%29%3B%0A%20%20%20%20%20%20%20%20%20%20%20%20%0A%0A%20%20%20%20%20%20%20%20%20%20%20%20marker_56f9aa739365498ead953bad67b35d7e.bindPopup%28popup_0e17fa59b7bb403285a9fbd91bb0f2bc%29%0A%20%20%20%20%20%20%20%20%20%20%20%20%3B%0A%0A%20%20%20%20%20%20%20%20%20%20%20%20%0A%20%20%20%20%20%20%20%20%0A%20%20%20%20%0A%20%20%20%20%20%20%20%20var%20marker_0bf148b62dc6444bb598d076e4193334%20%3D%20L.marker%28%0A%20%20%20%20%20%20%20%20%20%20%20%20%5B-23.067697%2C%20-43.568053%5D%2C%0A%20%20%20%20%20%20%20%20%20%20%20%20%7B%0A%20%20%20%20%20%20%20%20%20%20%20%20%20%20%20%20icon%3A%20new%20L.Icon.Default%28%29%2C%0A%20%20%20%20%20%20%20%20%20%20%20%20%20%20%20%20%7D%0A%20%20%20%20%20%20%20%20%20%20%20%20%29.addTo%28map_892615da0ab24d4bbf4d8735c8a3dbbd%29%3B%0A%20%20%20%20%20%20%20%20%0A%20%20%20%20%0A%20%20%20%20%20%20%20%20%20%20%20%20var%20popup_a188b261711a4e3daa9cd20bd4f24bf4%20%3D%20L.popup%28%7BmaxWidth%3A%20%27100%25%27%0A%20%20%20%20%20%20%20%20%20%20%20%20%0A%20%20%20%20%20%20%20%20%20%20%20%20%7D%29%3B%0A%0A%20%20%20%20%20%20%20%20%20%20%20%20%0A%20%20%20%20%20%20%20%20%20%20%20%20%20%20%20%20var%20html_fcf48acd083a425e9a4bcfa87ed541fb%20%3D%20%24%28%60%3Cdiv%20id%3D%22html_fcf48acd083a425e9a4bcfa87ed541fb%22%20style%3D%22width%3A%20100.0%25%3B%20height%3A%20100.0%25%3B%22%3EPraia%20Grande%3C/div%3E%60%29%5B0%5D%3B%0A%20%20%20%20%20%20%20%20%20%20%20%20%20%20%20%20popup_a188b261711a4e3daa9cd20bd4f24bf4.setContent%28html_fcf48acd083a425e9a4bcfa87ed541fb%29%3B%0A%20%20%20%20%20%20%20%20%20%20%20%20%0A%0A%20%20%20%20%20%20%20%20%20%20%20%20marker_0bf148b62dc6444bb598d076e4193334.bindPopup%28popup_a188b261711a4e3daa9cd20bd4f24bf4%29%0A%20%20%20%20%20%20%20%20%20%20%20%20%3B%0A%0A%20%20%20%20%20%20%20%20%20%20%20%20%0A%20%20%20%20%20%20%20%20%0A%3C/script%3E onload=\"this.contentDocument.open();this.contentDocument.write(    decodeURIComponent(this.getAttribute('data-html')));this.contentDocument.close();\" allowfullscreen webkitallowfullscreen mozallowfullscreen></iframe></div></div>"
            ],
            "text/plain": [
              "<folium.folium.Map at 0x7f167431b190>"
            ]
          },
          "metadata": {},
          "execution_count": 135
        }
      ]
    },
    {
      "cell_type": "markdown",
      "source": [
        "\n",
        "## **DICIONÁRIO (dict)**"
      ],
      "metadata": {
        "id": "IH3m93-m3e7w"
      }
    },
    {
      "cell_type": "code",
      "source": [
        "# Construção dos dicionários\n",
        "\n",
        "places = {\"Minha Casa\": [-23.0625223,-43.5659516],\"Praia Pequena\":[-23.0649001,-43.5684919], \"Praia Grande\":[-23.067697,-43.568053]}\n",
        "\n",
        "print(type(places))\n",
        "print(places.keys())\n",
        "\n"
      ],
      "metadata": {
        "colab": {
          "base_uri": "https://localhost:8080/"
        },
        "id": "cYbB_npm5rDl",
        "outputId": "312e942f-20e3-443e-bcc3-9ffd234da2c6"
      },
      "execution_count": null,
      "outputs": [
        {
          "output_type": "stream",
          "name": "stdout",
          "text": [
            "<class 'dict'>\n",
            "dict_keys(['Minha Casa', 'Praia Pequena', 'Praia Grande'])\n"
          ]
        }
      ]
    },
    {
      "cell_type": "code",
      "source": [
        "places['Minha Casa']"
      ],
      "metadata": {
        "colab": {
          "base_uri": "https://localhost:8080/"
        },
        "id": "HJ14R9lmGuNc",
        "outputId": "e8c73dfc-3f71-48ec-80a9-562af3e3ca8a"
      },
      "execution_count": null,
      "outputs": [
        {
          "output_type": "execute_result",
          "data": {
            "text/plain": [
              "[-23.0625223, -43.5659516]"
            ]
          },
          "metadata": {},
          "execution_count": 142
        }
      ]
    },
    {
      "cell_type": "code",
      "source": [
        "places[\"Praia Grande\"]"
      ],
      "metadata": {
        "colab": {
          "base_uri": "https://localhost:8080/"
        },
        "id": "ou-OIBSKu8gG",
        "outputId": "ec2be120-3f05-430a-8c52-3fde460372d6"
      },
      "execution_count": null,
      "outputs": [
        {
          "output_type": "execute_result",
          "data": {
            "text/plain": [
              "[-23.067697, -43.568053]"
            ]
          },
          "metadata": {},
          "execution_count": 143
        }
      ]
    },
    {
      "cell_type": "code",
      "source": [
        "# Objeto para construção do mapa\n",
        "m = folium.Map(\n",
        "    width='100%', \n",
        "    height='100%',\n",
        "    location= places['Minha Casa'],\n",
        "    zoom_start=14,\n",
        "    tiles='cartodb positron'\n",
        ")\n",
        "folium.Marker(location=places['Minha Casa']).add_child(folium.Popup('Minha Casa')).add_to(m)\n",
        "folium.Marker(location=places['Praia Pequena']).add_child(folium.Popup('Praia Pequena')).add_to(m)\n",
        "folium.Marker(location=places['Praia Grande']).add_child(folium.Popup('Praia Grande')).add_to(m)\n",
        "\n",
        "m\n"
      ],
      "metadata": {
        "colab": {
          "base_uri": "https://localhost:8080/",
          "height": 723
        },
        "id": "vQrV3IAf3pk-",
        "outputId": "11e1fd35-657f-48f4-f60c-7b932dbe3c1e"
      },
      "execution_count": null,
      "outputs": [
        {
          "output_type": "execute_result",
          "data": {
            "text/html": [
              "<div style=\"width:100%;\"><div style=\"position:relative;width:100%;height:0;padding-bottom:60%;\"><span style=\"color:#565656\">Make this Notebook Trusted to load map: File -> Trust Notebook</span><iframe src=\"about:blank\" style=\"position:absolute;width:100%;height:100%;left:0;top:0;border:none !important;\" data-html=%3C%21DOCTYPE%20html%3E%0A%3Chead%3E%20%20%20%20%0A%20%20%20%20%3Cmeta%20http-equiv%3D%22content-type%22%20content%3D%22text/html%3B%20charset%3DUTF-8%22%20/%3E%0A%20%20%20%20%3Cscript%3EL_PREFER_CANVAS%3Dfalse%3B%20L_NO_TOUCH%3Dfalse%3B%20L_DISABLE_3D%3Dfalse%3B%3C/script%3E%0A%20%20%20%20%3Cscript%20src%3D%22https%3A//cdn.jsdelivr.net/npm/leaflet%401.4.0/dist/leaflet.js%22%3E%3C/script%3E%0A%20%20%20%20%3Cscript%20src%3D%22https%3A//code.jquery.com/jquery-1.12.4.min.js%22%3E%3C/script%3E%0A%20%20%20%20%3Cscript%20src%3D%22https%3A//maxcdn.bootstrapcdn.com/bootstrap/3.2.0/js/bootstrap.min.js%22%3E%3C/script%3E%0A%20%20%20%20%3Cscript%20src%3D%22https%3A//cdnjs.cloudflare.com/ajax/libs/Leaflet.awesome-markers/2.0.2/leaflet.awesome-markers.js%22%3E%3C/script%3E%0A%20%20%20%20%3Clink%20rel%3D%22stylesheet%22%20href%3D%22https%3A//cdn.jsdelivr.net/npm/leaflet%401.4.0/dist/leaflet.css%22/%3E%0A%20%20%20%20%3Clink%20rel%3D%22stylesheet%22%20href%3D%22https%3A//maxcdn.bootstrapcdn.com/bootstrap/3.2.0/css/bootstrap.min.css%22/%3E%0A%20%20%20%20%3Clink%20rel%3D%22stylesheet%22%20href%3D%22https%3A//maxcdn.bootstrapcdn.com/bootstrap/3.2.0/css/bootstrap-theme.min.css%22/%3E%0A%20%20%20%20%3Clink%20rel%3D%22stylesheet%22%20href%3D%22https%3A//maxcdn.bootstrapcdn.com/font-awesome/4.6.3/css/font-awesome.min.css%22/%3E%0A%20%20%20%20%3Clink%20rel%3D%22stylesheet%22%20href%3D%22https%3A//cdnjs.cloudflare.com/ajax/libs/Leaflet.awesome-markers/2.0.2/leaflet.awesome-markers.css%22/%3E%0A%20%20%20%20%3Clink%20rel%3D%22stylesheet%22%20href%3D%22https%3A//rawcdn.githack.com/python-visualization/folium/master/folium/templates/leaflet.awesome.rotate.css%22/%3E%0A%20%20%20%20%3Cstyle%3Ehtml%2C%20body%20%7Bwidth%3A%20100%25%3Bheight%3A%20100%25%3Bmargin%3A%200%3Bpadding%3A%200%3B%7D%3C/style%3E%0A%20%20%20%20%3Cstyle%3E%23map%20%7Bposition%3Aabsolute%3Btop%3A0%3Bbottom%3A0%3Bright%3A0%3Bleft%3A0%3B%7D%3C/style%3E%0A%20%20%20%20%0A%20%20%20%20%3Cmeta%20name%3D%22viewport%22%20content%3D%22width%3Ddevice-width%2C%0A%20%20%20%20%20%20%20%20initial-scale%3D1.0%2C%20maximum-scale%3D1.0%2C%20user-scalable%3Dno%22%20/%3E%0A%20%20%20%20%3Cstyle%3E%23map_9a8d28a60be94efca2ea5dba0e8bd535%20%7B%0A%20%20%20%20%20%20%20%20position%3A%20relative%3B%0A%20%20%20%20%20%20%20%20width%3A%20100.0%25%3B%0A%20%20%20%20%20%20%20%20height%3A%20100.0%25%3B%0A%20%20%20%20%20%20%20%20left%3A%200.0%25%3B%0A%20%20%20%20%20%20%20%20top%3A%200.0%25%3B%0A%20%20%20%20%20%20%20%20%7D%0A%20%20%20%20%3C/style%3E%0A%3C/head%3E%0A%3Cbody%3E%20%20%20%20%0A%20%20%20%20%0A%20%20%20%20%3Cdiv%20class%3D%22folium-map%22%20id%3D%22map_9a8d28a60be94efca2ea5dba0e8bd535%22%20%3E%3C/div%3E%0A%3C/body%3E%0A%3Cscript%3E%20%20%20%20%0A%20%20%20%20%0A%20%20%20%20%0A%20%20%20%20%20%20%20%20var%20bounds%20%3D%20null%3B%0A%20%20%20%20%0A%0A%20%20%20%20var%20map_9a8d28a60be94efca2ea5dba0e8bd535%20%3D%20L.map%28%0A%20%20%20%20%20%20%20%20%27map_9a8d28a60be94efca2ea5dba0e8bd535%27%2C%20%7B%0A%20%20%20%20%20%20%20%20center%3A%20%5B-23.0625223%2C%20-43.5659516%5D%2C%0A%20%20%20%20%20%20%20%20zoom%3A%2014%2C%0A%20%20%20%20%20%20%20%20maxBounds%3A%20bounds%2C%0A%20%20%20%20%20%20%20%20layers%3A%20%5B%5D%2C%0A%20%20%20%20%20%20%20%20worldCopyJump%3A%20false%2C%0A%20%20%20%20%20%20%20%20crs%3A%20L.CRS.EPSG3857%2C%0A%20%20%20%20%20%20%20%20zoomControl%3A%20true%2C%0A%20%20%20%20%20%20%20%20%7D%29%3B%0A%0A%0A%20%20%20%20%0A%20%20%20%20var%20tile_layer_5bc4b52a44d943238a45efab433102d2%20%3D%20L.tileLayer%28%0A%20%20%20%20%20%20%20%20%27https%3A//cartodb-basemaps-%7Bs%7D.global.ssl.fastly.net/light_all/%7Bz%7D/%7Bx%7D/%7By%7D.png%27%2C%0A%20%20%20%20%20%20%20%20%7B%0A%20%20%20%20%20%20%20%20%22attribution%22%3A%20null%2C%0A%20%20%20%20%20%20%20%20%22detectRetina%22%3A%20false%2C%0A%20%20%20%20%20%20%20%20%22maxNativeZoom%22%3A%2018%2C%0A%20%20%20%20%20%20%20%20%22maxZoom%22%3A%2018%2C%0A%20%20%20%20%20%20%20%20%22minZoom%22%3A%200%2C%0A%20%20%20%20%20%20%20%20%22noWrap%22%3A%20false%2C%0A%20%20%20%20%20%20%20%20%22opacity%22%3A%201%2C%0A%20%20%20%20%20%20%20%20%22subdomains%22%3A%20%22abc%22%2C%0A%20%20%20%20%20%20%20%20%22tms%22%3A%20false%0A%7D%29.addTo%28map_9a8d28a60be94efca2ea5dba0e8bd535%29%3B%0A%20%20%20%20%0A%20%20%20%20%20%20%20%20var%20marker_8b22171887814a40bdfaa4f6620e0eb8%20%3D%20L.marker%28%0A%20%20%20%20%20%20%20%20%20%20%20%20%5B-23.0625223%2C%20-43.5659516%5D%2C%0A%20%20%20%20%20%20%20%20%20%20%20%20%7B%0A%20%20%20%20%20%20%20%20%20%20%20%20%20%20%20%20icon%3A%20new%20L.Icon.Default%28%29%2C%0A%20%20%20%20%20%20%20%20%20%20%20%20%20%20%20%20%7D%0A%20%20%20%20%20%20%20%20%20%20%20%20%29.addTo%28map_9a8d28a60be94efca2ea5dba0e8bd535%29%3B%0A%20%20%20%20%20%20%20%20%0A%20%20%20%20%0A%20%20%20%20%20%20%20%20%20%20%20%20var%20popup_177b5198f4c043be8e74e2f85c9188a7%20%3D%20L.popup%28%7BmaxWidth%3A%20%27100%25%27%0A%20%20%20%20%20%20%20%20%20%20%20%20%0A%20%20%20%20%20%20%20%20%20%20%20%20%7D%29%3B%0A%0A%20%20%20%20%20%20%20%20%20%20%20%20%0A%20%20%20%20%20%20%20%20%20%20%20%20%20%20%20%20var%20html_e7e55829b3c44444b1e3354b925a04b0%20%3D%20%24%28%60%3Cdiv%20id%3D%22html_e7e55829b3c44444b1e3354b925a04b0%22%20style%3D%22width%3A%20100.0%25%3B%20height%3A%20100.0%25%3B%22%3EMinha%20Casa%3C/div%3E%60%29%5B0%5D%3B%0A%20%20%20%20%20%20%20%20%20%20%20%20%20%20%20%20popup_177b5198f4c043be8e74e2f85c9188a7.setContent%28html_e7e55829b3c44444b1e3354b925a04b0%29%3B%0A%20%20%20%20%20%20%20%20%20%20%20%20%0A%0A%20%20%20%20%20%20%20%20%20%20%20%20marker_8b22171887814a40bdfaa4f6620e0eb8.bindPopup%28popup_177b5198f4c043be8e74e2f85c9188a7%29%0A%20%20%20%20%20%20%20%20%20%20%20%20%3B%0A%0A%20%20%20%20%20%20%20%20%20%20%20%20%0A%20%20%20%20%20%20%20%20%0A%20%20%20%20%0A%20%20%20%20%20%20%20%20var%20marker_e39fec9f73b04a0887d1fcced78f5ad8%20%3D%20L.marker%28%0A%20%20%20%20%20%20%20%20%20%20%20%20%5B-23.0649001%2C%20-43.5684919%5D%2C%0A%20%20%20%20%20%20%20%20%20%20%20%20%7B%0A%20%20%20%20%20%20%20%20%20%20%20%20%20%20%20%20icon%3A%20new%20L.Icon.Default%28%29%2C%0A%20%20%20%20%20%20%20%20%20%20%20%20%20%20%20%20%7D%0A%20%20%20%20%20%20%20%20%20%20%20%20%29.addTo%28map_9a8d28a60be94efca2ea5dba0e8bd535%29%3B%0A%20%20%20%20%20%20%20%20%0A%20%20%20%20%0A%20%20%20%20%20%20%20%20%20%20%20%20var%20popup_6d634e8a809d447cad5f10fef05a623a%20%3D%20L.popup%28%7BmaxWidth%3A%20%27100%25%27%0A%20%20%20%20%20%20%20%20%20%20%20%20%0A%20%20%20%20%20%20%20%20%20%20%20%20%7D%29%3B%0A%0A%20%20%20%20%20%20%20%20%20%20%20%20%0A%20%20%20%20%20%20%20%20%20%20%20%20%20%20%20%20var%20html_528c046914e240aab4e003f470ecba00%20%3D%20%24%28%60%3Cdiv%20id%3D%22html_528c046914e240aab4e003f470ecba00%22%20style%3D%22width%3A%20100.0%25%3B%20height%3A%20100.0%25%3B%22%3EPraia%20Pequena%3C/div%3E%60%29%5B0%5D%3B%0A%20%20%20%20%20%20%20%20%20%20%20%20%20%20%20%20popup_6d634e8a809d447cad5f10fef05a623a.setContent%28html_528c046914e240aab4e003f470ecba00%29%3B%0A%20%20%20%20%20%20%20%20%20%20%20%20%0A%0A%20%20%20%20%20%20%20%20%20%20%20%20marker_e39fec9f73b04a0887d1fcced78f5ad8.bindPopup%28popup_6d634e8a809d447cad5f10fef05a623a%29%0A%20%20%20%20%20%20%20%20%20%20%20%20%3B%0A%0A%20%20%20%20%20%20%20%20%20%20%20%20%0A%20%20%20%20%20%20%20%20%0A%20%20%20%20%0A%20%20%20%20%20%20%20%20var%20marker_b83a0c8b15584391965f78800ac69361%20%3D%20L.marker%28%0A%20%20%20%20%20%20%20%20%20%20%20%20%5B-23.067697%2C%20-43.568053%5D%2C%0A%20%20%20%20%20%20%20%20%20%20%20%20%7B%0A%20%20%20%20%20%20%20%20%20%20%20%20%20%20%20%20icon%3A%20new%20L.Icon.Default%28%29%2C%0A%20%20%20%20%20%20%20%20%20%20%20%20%20%20%20%20%7D%0A%20%20%20%20%20%20%20%20%20%20%20%20%29.addTo%28map_9a8d28a60be94efca2ea5dba0e8bd535%29%3B%0A%20%20%20%20%20%20%20%20%0A%20%20%20%20%0A%20%20%20%20%20%20%20%20%20%20%20%20var%20popup_b90eaa15f5654f7e81f0f37866ef9d14%20%3D%20L.popup%28%7BmaxWidth%3A%20%27100%25%27%0A%20%20%20%20%20%20%20%20%20%20%20%20%0A%20%20%20%20%20%20%20%20%20%20%20%20%7D%29%3B%0A%0A%20%20%20%20%20%20%20%20%20%20%20%20%0A%20%20%20%20%20%20%20%20%20%20%20%20%20%20%20%20var%20html_5026063529f14aa6a6d688dbedaf1f32%20%3D%20%24%28%60%3Cdiv%20id%3D%22html_5026063529f14aa6a6d688dbedaf1f32%22%20style%3D%22width%3A%20100.0%25%3B%20height%3A%20100.0%25%3B%22%3EPraia%20Grande%3C/div%3E%60%29%5B0%5D%3B%0A%20%20%20%20%20%20%20%20%20%20%20%20%20%20%20%20popup_b90eaa15f5654f7e81f0f37866ef9d14.setContent%28html_5026063529f14aa6a6d688dbedaf1f32%29%3B%0A%20%20%20%20%20%20%20%20%20%20%20%20%0A%0A%20%20%20%20%20%20%20%20%20%20%20%20marker_b83a0c8b15584391965f78800ac69361.bindPopup%28popup_b90eaa15f5654f7e81f0f37866ef9d14%29%0A%20%20%20%20%20%20%20%20%20%20%20%20%3B%0A%0A%20%20%20%20%20%20%20%20%20%20%20%20%0A%20%20%20%20%20%20%20%20%0A%3C/script%3E onload=\"this.contentDocument.open();this.contentDocument.write(    decodeURIComponent(this.getAttribute('data-html')));this.contentDocument.close();\" allowfullscreen webkitallowfullscreen mozallowfullscreen></iframe></div></div>"
            ],
            "text/plain": [
              "<folium.folium.Map at 0x7f167434b550>"
            ]
          },
          "metadata": {},
          "execution_count": 144
        }
      ]
    },
    {
      "cell_type": "code",
      "source": [
        "# Bibliotecas para requisição e decodificação de json\n",
        "import requests\n",
        "import json\n",
        "from IPython.display import clear_output \n",
        "import matplotlib.pyplot as plt\n",
        "import seaborn\n",
        "import time\n",
        "\n",
        "seaborn.set();\n",
        "\n",
        "btc = []\n",
        "eth = []\n",
        "\n",
        "# Requisição GET para aquisição dos valores do Bitcoin e Ethereum em USD\n",
        "response_btc = requests.get('https://api.binance.com/api/v3/ticker/price?symbol=BTCUSDT')\n",
        "response_eth = requests.get('https://api.binance.com/api/v3/ticker/price?symbol=ETHUSDT')\n",
        "\n",
        "\n",
        "# Aquisição da string do conteúdo da resposta e codificação em json\n",
        "data_btc = json.loads(response_btc.text)\n",
        "data_eth = json.loads(response_eth.text)\n",
        "\n",
        "# Exibe o tipo de dados \n",
        "print(type(data_btc))\n",
        "# Exibe as chaves do dicionário\n",
        "print(data_btc.keys())\n",
        "\n",
        "\n",
        "print(data_btc)\n",
        "print(data_eth)"
      ],
      "metadata": {
        "colab": {
          "base_uri": "https://localhost:8080/"
        },
        "id": "lnZkFvPS8A2S",
        "outputId": "786f0c23-571c-4746-bbf8-c5f8c5344309"
      },
      "execution_count": null,
      "outputs": [
        {
          "output_type": "stream",
          "name": "stdout",
          "text": [
            "<class 'dict'>\n",
            "dict_keys(['symbol', 'price'])\n",
            "{'symbol': 'BTCUSDT', 'price': '43406.21000000'}\n",
            "{'symbol': 'ETHUSDT', 'price': '3063.51000000'}\n"
          ]
        }
      ]
    },
    {
      "cell_type": "code",
      "source": [
        "count = 0\n",
        "while count < 100:\n",
        "  count += 1\n",
        "  clear_output()\n",
        "  # Requisição GET para aquisição dos valores do Bitcoin e Ethereum em USD\n",
        "  response_btc = requests.get('https://api.binance.com/api/v3/ticker/price?symbol=BTCUSDT')\n",
        "  response_eth = requests.get('https://api.binance.com/api/v3/ticker/price?symbol=ETHUSDT')\n",
        "\n",
        "\n",
        "  # Aquisição da string do conteúdo da resposta e codificação em json\n",
        "  data_btc = json.loads(response_btc.text)\n",
        "  data_eth = json.loads(response_eth.text)\n",
        "\n",
        "  # Cria dois subplots para o gráfico\n",
        "  fig, ax = plt.subplots(2, figsize=(12,6))\n",
        "\n",
        "  # Adiciona valores atuais às listas\n",
        "  btc.append(float(data_btc['price']))\n",
        "  eth.append(float(data_eth['price']))\n",
        "\n",
        "\n",
        "  # Adiciona o título ao subplot\n",
        "  ax[0].set_title(\"BTC\");\n",
        "  ax[1].set_title(\"ETH\");\n",
        "\n",
        "  # Plota a lista com os valores\n",
        "  ax[0].plot(btc ,color='blue', label='Bitcoin');\n",
        "  ax[1].plot(eth , color='orange', label='Ethereum');\n",
        "\n",
        "  # Adiciona lagenda aos gráficos\n",
        "  ax[0].legend();\n",
        "  ax[1].legend();\n",
        "\n",
        "  plt.show()\n",
        "  time.sleep(3)"
      ],
      "metadata": {
        "colab": {
          "base_uri": "https://localhost:8080/",
          "height": 578
        },
        "id": "5R-3plhq89vI",
        "outputId": "17c5dbd3-07c0-4ae8-de9f-801b7fdd87b9"
      },
      "execution_count": null,
      "outputs": [
        {
          "output_type": "display_data",
          "data": {
            "image/png": "[encoded data removed]",
            "text/plain": [
              "<Figure size 864x432 with 2 Axes>"
            ]
          },
          "metadata": {}
        },
        {
          "output_type": "error",
          "ename": "KeyboardInterrupt",
          "evalue": "ignored",
          "traceback": [
            "\u001b[0;31m---------------------------------------------------------------------------\u001b[0m",
            "\u001b[0;31mKeyboardInterrupt\u001b[0m                         Traceback (most recent call last)",
            "\u001b[0;32m<ipython-input-127-fa33b20c4f4d>\u001b[0m in \u001b[0;36m<module>\u001b[0;34m()\u001b[0m\n\u001b[1;32m     33\u001b[0m \u001b[0;34m\u001b[0m\u001b[0m\n\u001b[1;32m     34\u001b[0m   \u001b[0mplt\u001b[0m\u001b[0;34m.\u001b[0m\u001b[0mshow\u001b[0m\u001b[0;34m(\u001b[0m\u001b[0;34m)\u001b[0m\u001b[0;34m\u001b[0m\u001b[0;34m\u001b[0m\u001b[0m\n\u001b[0;32m---> 35\u001b[0;31m   \u001b[0mtime\u001b[0m\u001b[0;34m.\u001b[0m\u001b[0msleep\u001b[0m\u001b[0;34m(\u001b[0m\u001b[0;36m3\u001b[0m\u001b[0;34m)\u001b[0m\u001b[0;34m\u001b[0m\u001b[0;34m\u001b[0m\u001b[0m\n\u001b[0m",
            "\u001b[0;31mKeyboardInterrupt\u001b[0m: "
          ]
        }
      ]
    },
    {
      "cell_type": "markdown",
      "source": [
        "## **COMPLEXO (complex)**"
      ],
      "metadata": {
        "id": "__PMAal-53h3"
      }
    },
    {
      "cell_type": "code",
      "source": [
        "a = 3+5j\n",
        "b = 5+2j\n",
        "\n",
        "d = a + b\n",
        "c = complex(2,4j)\n",
        "\n",
        "print(type(a))\n",
        "print(type(c))\n",
        "print(a,b,c,d)"
      ],
      "metadata": {
        "colab": {
          "base_uri": "https://localhost:8080/"
        },
        "id": "Jb0VhKyQ58iF",
        "outputId": "94879e22-8771-4202-93ce-40c1a1fee9db"
      },
      "execution_count": null,
      "outputs": [
        {
          "output_type": "stream",
          "name": "stdout",
          "text": [
            "<class 'complex'>\n",
            "<class 'complex'>\n",
            "(3+5j) (5+2j) (-2+0j) (8+7j)\n"
          ]
        }
      ]
    }
  ]
}